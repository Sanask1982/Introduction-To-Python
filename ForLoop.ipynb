{
  "nbformat": 4,
  "nbformat_minor": 0,
  "metadata": {
    "colab": {
      "provenance": []
    },
    "kernelspec": {
      "name": "python3",
      "display_name": "Python 3"
    },
    "language_info": {
      "name": "python"
    }
  },
  "cells": [
    {
      "cell_type": "markdown",
      "source": [
        "**Very Simple Game.This is a fun and easy word guessing game for beginners!**"
      ],
      "metadata": {
        "id": "7xBGVIU2JOpz"
      }
    },
    {
      "cell_type": "code",
      "source": [
        "#importing random function for generationg random words from our given List of words.\n",
        "\n",
        "import random\n",
        "\n",
        "# Word lists for selection from where random() will select\n",
        "\n",
        "Fruits = ['apple', 'banana', 'grape']\n",
        "Colors = ['red', 'blue', 'green']\n",
        "\n",
        "# Function for fruits game\n",
        "\n",
        "def def_fruits():\n",
        "    word = random.choice(Fruits) #select different word each time  from our given list of fruits words\n",
        "    print(\"Guess the fruit!\")\n",
        "    for i in range(3):       #using For Loop and giving 3 Chances to User\n",
        "        guess = input(\"Enter a letter: \") # Asking for Input from user\n",
        "        if guess in word:\n",
        "            print(\"Correct!\")\n",
        "        else:\n",
        "            print(\"Wrong!\")\n",
        "    print(\"The word was:\", word)\n",
        "\n",
        "\n",
        "\n",
        "\n",
        "# Function for colors game\n",
        "def def_colors():\n",
        "    word = random.choice(Colors)\n",
        "    print(\"Guess the color!\")\n",
        "    for i in range(3):\n",
        "        guess = input(\"Enter a letter: \")\n",
        "        if guess in word:\n",
        "            print(\"Correct!\")\n",
        "        else:\n",
        "            print(\"Wrong!\")\n",
        "    print(\"The word was:\", word)\n",
        "\n",
        "choice = int(input(\"For Fruits Press 1 and For Colors Press 2: \"))\n",
        "\n",
        "\n",
        "if choice == 1:\n",
        "    def_fruits()\n",
        "elif choice == 2:\n",
        "    def_colors()\n",
        "else:\n",
        "    print(\"Invalid choice.\")\n"
      ],
      "metadata": {
        "colab": {
          "base_uri": "https://localhost:8080/"
        },
        "id": "4KWsfUNBHmz9",
        "outputId": "e1b50e43-162c-4ba8-9980-58cc48fa8005"
      },
      "execution_count": 12,
      "outputs": [
        {
          "output_type": "stream",
          "name": "stdout",
          "text": [
            "For Fruits Press 1 and For Colors Press 2: 2\n",
            "Guess the color!\n",
            "Enter a letter: red\n",
            "Correct!\n",
            "Enter a letter: green\n",
            "Wrong!\n",
            "Enter a letter: yellow\n",
            "Wrong!\n",
            "The word was: red\n"
          ]
        }
      ]
    }
  ]
}