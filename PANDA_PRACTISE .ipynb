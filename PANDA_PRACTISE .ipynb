{
  "nbformat": 4,
  "nbformat_minor": 0,
  "metadata": {
    "colab": {
      "provenance": []
    },
    "kernelspec": {
      "name": "python3",
      "display_name": "Python 3"
    },
    "language_info": {
      "name": "python"
    }
  },
  "cells": [
    {
      "cell_type": "markdown",
      "source": [
        "**SCHOOL DATABASE**"
      ],
      "metadata": {
        "id": "BD2S2stMZh6-"
      }
    },
    {
      "cell_type": "code",
      "execution_count": 16,
      "metadata": {
        "colab": {
          "base_uri": "https://localhost:8080/"
        },
        "id": "k5Jtmd_3ZRia",
        "outputId": "588dc727-f19f-4f55-fe77-051e6453cf06"
      },
      "outputs": [
        {
          "output_type": "stream",
          "name": "stdout",
          "text": [
            "   TeacherID   Name  Age Gender  Subject  Salary\n",
            "0          1   John   30      M     Math   50000\n",
            "1          2   Jane   35      F  Science   60000\n",
            "2          3    Bob   40      M  English   70000\n",
            "3          4  Alice   45      F     Math   80000\n",
            "4          5    Tom   50      M  Science   90000\n",
            "   StudentID     Name  Age Gender  Grades Class  Marks  Subject\n",
            "0        101    Alice   18      F       9     A     20     Math\n",
            "1        102      Bob   19      M      10     A     30  Science\n",
            "2        103  Charlie   20      M      11     A     50  English\n",
            "3        104    David   18      M       9     B     90     Math\n",
            "4        105      Eva   19      F      10     B     38  Science\n",
            "5        106    Frank   20      M      11     B     20  English\n",
            "6        107    Grace   18      F       9     C     79     Math\n",
            "7        108   Hannah   19      F      10     C     80  Science\n",
            "8        109      Ivy   20      F      11     C     90  English\n",
            "9        110     Jack   18      M       9     D    100     Math\n"
          ]
        }
      ],
      "source": [
        "import pandas as pd\n",
        "import numpy as np\n",
        "import matplotlib.pyplot as plt\n",
        "\n",
        "Studentdf = pd.DataFrame({\n",
        "    'StudentID': [101, 102, 103, 104, 105, 106, 107, 108, 109, 110],\n",
        "    'Name': ['Alice', 'Bob', 'Charlie', 'David', 'Eva', 'Frank', 'Grace', 'Hannah', 'Ivy', 'Jack'],\n",
        "    'Age': [18, 19, 20, 18, 19, 20, 18, 19, 20, 18],\n",
        "    'Gender': ['F', 'M', 'M', 'M', 'F', 'M', 'F', 'F', 'F', 'M'],\n",
        "    'Grades': [9, 10, 11, 9, 10, 11, 9, 10, 11, 9],\n",
        "    'Class': ['A', 'A', 'A', 'B', 'B', 'B', 'C', 'C', 'C', 'D'],\n",
        "    'Marks': [20,30,50,90,38,20,79,80,90,100],\n",
        "    'Subject': ['Math', 'Science', 'English', 'Math', 'Science', 'English', 'Math', 'Science', 'English', 'Math']\n",
        "})\n",
        "\n",
        "Teacherdf = pd.DataFrame({\n",
        "    'TeacherID': [1, 2, 3, 4, 5],\n",
        "    'Name': ['John', 'Jane', 'Bob', 'Alice', 'Tom'],\n",
        "    'Age': [30, 35, 40, 45, 50],\n",
        "    'Gender': ['M', 'F', 'M', 'F', 'M'],\n",
        "    'Subject': ['Math', 'Science', 'English', 'Math', 'Science'],\n",
        "     'Salary': [50000, 60000, 70000, 80000, 90000]\n",
        "})\n",
        "T_df = pd.DataFrame(Teacherdf)\n",
        "print (T_df)\n",
        "\n",
        "\n",
        "S_df= pd.DataFrame(Studentdf)\n",
        "print (S_df)"
      ]
    },
    {
      "cell_type": "markdown",
      "source": [
        "** Calculating Marks of All Students Using describe()**"
      ],
      "metadata": {
        "id": "4Kx-1lxsdwpP"
      }
    },
    {
      "cell_type": "code",
      "source": [
        "\n",
        "S_df.describe()"
      ],
      "metadata": {
        "colab": {
          "base_uri": "https://localhost:8080/",
          "height": 300
        },
        "id": "w_jQSepEd75x",
        "outputId": "33f7088a-5a32-43db-f059-cbbd42ee6647"
      },
      "execution_count": 17,
      "outputs": [
        {
          "output_type": "execute_result",
          "data": {
            "text/plain": [
              "       StudentID        Age     Grades       Marks\n",
              "count   10.00000  10.000000  10.000000   10.000000\n",
              "mean   105.50000  18.900000   9.900000   59.700000\n",
              "std      3.02765   0.875595   0.875595   31.347692\n",
              "min    101.00000  18.000000   9.000000   20.000000\n",
              "25%    103.25000  18.000000   9.000000   32.000000\n",
              "50%    105.50000  19.000000  10.000000   64.500000\n",
              "75%    107.75000  19.750000  10.750000   87.500000\n",
              "max    110.00000  20.000000  11.000000  100.000000"
            ],
            "text/html": [
              "\n",
              "  <div id=\"df-7331799c-e8f7-4676-84d6-cac907baf716\" class=\"colab-df-container\">\n",
              "    <div>\n",
              "<style scoped>\n",
              "    .dataframe tbody tr th:only-of-type {\n",
              "        vertical-align: middle;\n",
              "    }\n",
              "\n",
              "    .dataframe tbody tr th {\n",
              "        vertical-align: top;\n",
              "    }\n",
              "\n",
              "    .dataframe thead th {\n",
              "        text-align: right;\n",
              "    }\n",
              "</style>\n",
              "<table border=\"1\" class=\"dataframe\">\n",
              "  <thead>\n",
              "    <tr style=\"text-align: right;\">\n",
              "      <th></th>\n",
              "      <th>StudentID</th>\n",
              "      <th>Age</th>\n",
              "      <th>Grades</th>\n",
              "      <th>Marks</th>\n",
              "    </tr>\n",
              "  </thead>\n",
              "  <tbody>\n",
              "    <tr>\n",
              "      <th>count</th>\n",
              "      <td>10.00000</td>\n",
              "      <td>10.000000</td>\n",
              "      <td>10.000000</td>\n",
              "      <td>10.000000</td>\n",
              "    </tr>\n",
              "    <tr>\n",
              "      <th>mean</th>\n",
              "      <td>105.50000</td>\n",
              "      <td>18.900000</td>\n",
              "      <td>9.900000</td>\n",
              "      <td>59.700000</td>\n",
              "    </tr>\n",
              "    <tr>\n",
              "      <th>std</th>\n",
              "      <td>3.02765</td>\n",
              "      <td>0.875595</td>\n",
              "      <td>0.875595</td>\n",
              "      <td>31.347692</td>\n",
              "    </tr>\n",
              "    <tr>\n",
              "      <th>min</th>\n",
              "      <td>101.00000</td>\n",
              "      <td>18.000000</td>\n",
              "      <td>9.000000</td>\n",
              "      <td>20.000000</td>\n",
              "    </tr>\n",
              "    <tr>\n",
              "      <th>25%</th>\n",
              "      <td>103.25000</td>\n",
              "      <td>18.000000</td>\n",
              "      <td>9.000000</td>\n",
              "      <td>32.000000</td>\n",
              "    </tr>\n",
              "    <tr>\n",
              "      <th>50%</th>\n",
              "      <td>105.50000</td>\n",
              "      <td>19.000000</td>\n",
              "      <td>10.000000</td>\n",
              "      <td>64.500000</td>\n",
              "    </tr>\n",
              "    <tr>\n",
              "      <th>75%</th>\n",
              "      <td>107.75000</td>\n",
              "      <td>19.750000</td>\n",
              "      <td>10.750000</td>\n",
              "      <td>87.500000</td>\n",
              "    </tr>\n",
              "    <tr>\n",
              "      <th>max</th>\n",
              "      <td>110.00000</td>\n",
              "      <td>20.000000</td>\n",
              "      <td>11.000000</td>\n",
              "      <td>100.000000</td>\n",
              "    </tr>\n",
              "  </tbody>\n",
              "</table>\n",
              "</div>\n",
              "    <div class=\"colab-df-buttons\">\n",
              "\n",
              "  <div class=\"colab-df-container\">\n",
              "    <button class=\"colab-df-convert\" onclick=\"convertToInteractive('df-7331799c-e8f7-4676-84d6-cac907baf716')\"\n",
              "            title=\"Convert this dataframe to an interactive table.\"\n",
              "            style=\"display:none;\">\n",
              "\n",
              "  <svg xmlns=\"http://www.w3.org/2000/svg\" height=\"24px\" viewBox=\"0 -960 960 960\">\n",
              "    <path d=\"M120-120v-720h720v720H120Zm60-500h600v-160H180v160Zm220 220h160v-160H400v160Zm0 220h160v-160H400v160ZM180-400h160v-160H180v160Zm440 0h160v-160H620v160ZM180-180h160v-160H180v160Zm440 0h160v-160H620v160Z\"/>\n",
              "  </svg>\n",
              "    </button>\n",
              "\n",
              "  <style>\n",
              "    .colab-df-container {\n",
              "      display:flex;\n",
              "      gap: 12px;\n",
              "    }\n",
              "\n",
              "    .colab-df-convert {\n",
              "      background-color: #E8F0FE;\n",
              "      border: none;\n",
              "      border-radius: 50%;\n",
              "      cursor: pointer;\n",
              "      display: none;\n",
              "      fill: #1967D2;\n",
              "      height: 32px;\n",
              "      padding: 0 0 0 0;\n",
              "      width: 32px;\n",
              "    }\n",
              "\n",
              "    .colab-df-convert:hover {\n",
              "      background-color: #E2EBFA;\n",
              "      box-shadow: 0px 1px 2px rgba(60, 64, 67, 0.3), 0px 1px 3px 1px rgba(60, 64, 67, 0.15);\n",
              "      fill: #174EA6;\n",
              "    }\n",
              "\n",
              "    .colab-df-buttons div {\n",
              "      margin-bottom: 4px;\n",
              "    }\n",
              "\n",
              "    [theme=dark] .colab-df-convert {\n",
              "      background-color: #3B4455;\n",
              "      fill: #D2E3FC;\n",
              "    }\n",
              "\n",
              "    [theme=dark] .colab-df-convert:hover {\n",
              "      background-color: #434B5C;\n",
              "      box-shadow: 0px 1px 3px 1px rgba(0, 0, 0, 0.15);\n",
              "      filter: drop-shadow(0px 1px 2px rgba(0, 0, 0, 0.3));\n",
              "      fill: #FFFFFF;\n",
              "    }\n",
              "  </style>\n",
              "\n",
              "    <script>\n",
              "      const buttonEl =\n",
              "        document.querySelector('#df-7331799c-e8f7-4676-84d6-cac907baf716 button.colab-df-convert');\n",
              "      buttonEl.style.display =\n",
              "        google.colab.kernel.accessAllowed ? 'block' : 'none';\n",
              "\n",
              "      async function convertToInteractive(key) {\n",
              "        const element = document.querySelector('#df-7331799c-e8f7-4676-84d6-cac907baf716');\n",
              "        const dataTable =\n",
              "          await google.colab.kernel.invokeFunction('convertToInteractive',\n",
              "                                                    [key], {});\n",
              "        if (!dataTable) return;\n",
              "\n",
              "        const docLinkHtml = 'Like what you see? Visit the ' +\n",
              "          '<a target=\"_blank\" href=https://colab.research.google.com/notebooks/data_table.ipynb>data table notebook</a>'\n",
              "          + ' to learn more about interactive tables.';\n",
              "        element.innerHTML = '';\n",
              "        dataTable['output_type'] = 'display_data';\n",
              "        await google.colab.output.renderOutput(dataTable, element);\n",
              "        const docLink = document.createElement('div');\n",
              "        docLink.innerHTML = docLinkHtml;\n",
              "        element.appendChild(docLink);\n",
              "      }\n",
              "    </script>\n",
              "  </div>\n",
              "\n",
              "\n",
              "<div id=\"df-99b2b64a-070a-4c9a-97a3-7ad170aa82fe\">\n",
              "  <button class=\"colab-df-quickchart\" onclick=\"quickchart('df-99b2b64a-070a-4c9a-97a3-7ad170aa82fe')\"\n",
              "            title=\"Suggest charts\"\n",
              "            style=\"display:none;\">\n",
              "\n",
              "<svg xmlns=\"http://www.w3.org/2000/svg\" height=\"24px\"viewBox=\"0 0 24 24\"\n",
              "     width=\"24px\">\n",
              "    <g>\n",
              "        <path d=\"M19 3H5c-1.1 0-2 .9-2 2v14c0 1.1.9 2 2 2h14c1.1 0 2-.9 2-2V5c0-1.1-.9-2-2-2zM9 17H7v-7h2v7zm4 0h-2V7h2v10zm4 0h-2v-4h2v4z\"/>\n",
              "    </g>\n",
              "</svg>\n",
              "  </button>\n",
              "\n",
              "<style>\n",
              "  .colab-df-quickchart {\n",
              "      --bg-color: #E8F0FE;\n",
              "      --fill-color: #1967D2;\n",
              "      --hover-bg-color: #E2EBFA;\n",
              "      --hover-fill-color: #174EA6;\n",
              "      --disabled-fill-color: #AAA;\n",
              "      --disabled-bg-color: #DDD;\n",
              "  }\n",
              "\n",
              "  [theme=dark] .colab-df-quickchart {\n",
              "      --bg-color: #3B4455;\n",
              "      --fill-color: #D2E3FC;\n",
              "      --hover-bg-color: #434B5C;\n",
              "      --hover-fill-color: #FFFFFF;\n",
              "      --disabled-bg-color: #3B4455;\n",
              "      --disabled-fill-color: #666;\n",
              "  }\n",
              "\n",
              "  .colab-df-quickchart {\n",
              "    background-color: var(--bg-color);\n",
              "    border: none;\n",
              "    border-radius: 50%;\n",
              "    cursor: pointer;\n",
              "    display: none;\n",
              "    fill: var(--fill-color);\n",
              "    height: 32px;\n",
              "    padding: 0;\n",
              "    width: 32px;\n",
              "  }\n",
              "\n",
              "  .colab-df-quickchart:hover {\n",
              "    background-color: var(--hover-bg-color);\n",
              "    box-shadow: 0 1px 2px rgba(60, 64, 67, 0.3), 0 1px 3px 1px rgba(60, 64, 67, 0.15);\n",
              "    fill: var(--button-hover-fill-color);\n",
              "  }\n",
              "\n",
              "  .colab-df-quickchart-complete:disabled,\n",
              "  .colab-df-quickchart-complete:disabled:hover {\n",
              "    background-color: var(--disabled-bg-color);\n",
              "    fill: var(--disabled-fill-color);\n",
              "    box-shadow: none;\n",
              "  }\n",
              "\n",
              "  .colab-df-spinner {\n",
              "    border: 2px solid var(--fill-color);\n",
              "    border-color: transparent;\n",
              "    border-bottom-color: var(--fill-color);\n",
              "    animation:\n",
              "      spin 1s steps(1) infinite;\n",
              "  }\n",
              "\n",
              "  @keyframes spin {\n",
              "    0% {\n",
              "      border-color: transparent;\n",
              "      border-bottom-color: var(--fill-color);\n",
              "      border-left-color: var(--fill-color);\n",
              "    }\n",
              "    20% {\n",
              "      border-color: transparent;\n",
              "      border-left-color: var(--fill-color);\n",
              "      border-top-color: var(--fill-color);\n",
              "    }\n",
              "    30% {\n",
              "      border-color: transparent;\n",
              "      border-left-color: var(--fill-color);\n",
              "      border-top-color: var(--fill-color);\n",
              "      border-right-color: var(--fill-color);\n",
              "    }\n",
              "    40% {\n",
              "      border-color: transparent;\n",
              "      border-right-color: var(--fill-color);\n",
              "      border-top-color: var(--fill-color);\n",
              "    }\n",
              "    60% {\n",
              "      border-color: transparent;\n",
              "      border-right-color: var(--fill-color);\n",
              "    }\n",
              "    80% {\n",
              "      border-color: transparent;\n",
              "      border-right-color: var(--fill-color);\n",
              "      border-bottom-color: var(--fill-color);\n",
              "    }\n",
              "    90% {\n",
              "      border-color: transparent;\n",
              "      border-bottom-color: var(--fill-color);\n",
              "    }\n",
              "  }\n",
              "</style>\n",
              "\n",
              "  <script>\n",
              "    async function quickchart(key) {\n",
              "      const quickchartButtonEl =\n",
              "        document.querySelector('#' + key + ' button');\n",
              "      quickchartButtonEl.disabled = true;  // To prevent multiple clicks.\n",
              "      quickchartButtonEl.classList.add('colab-df-spinner');\n",
              "      try {\n",
              "        const charts = await google.colab.kernel.invokeFunction(\n",
              "            'suggestCharts', [key], {});\n",
              "      } catch (error) {\n",
              "        console.error('Error during call to suggestCharts:', error);\n",
              "      }\n",
              "      quickchartButtonEl.classList.remove('colab-df-spinner');\n",
              "      quickchartButtonEl.classList.add('colab-df-quickchart-complete');\n",
              "    }\n",
              "    (() => {\n",
              "      let quickchartButtonEl =\n",
              "        document.querySelector('#df-99b2b64a-070a-4c9a-97a3-7ad170aa82fe button');\n",
              "      quickchartButtonEl.style.display =\n",
              "        google.colab.kernel.accessAllowed ? 'block' : 'none';\n",
              "    })();\n",
              "  </script>\n",
              "</div>\n",
              "\n",
              "    </div>\n",
              "  </div>\n"
            ],
            "application/vnd.google.colaboratory.intrinsic+json": {
              "type": "dataframe",
              "summary": "{\n  \"name\": \"S_df\",\n  \"rows\": 8,\n  \"fields\": [\n    {\n      \"column\": \"StudentID\",\n      \"properties\": {\n        \"dtype\": \"number\",\n        \"std\": 45.938353162397604,\n        \"min\": 3.0276503540974917,\n        \"max\": 110.0,\n        \"num_unique_values\": 7,\n        \"samples\": [\n          10.0,\n          105.5,\n          107.75\n        ],\n        \"semantic_type\": \"\",\n        \"description\": \"\"\n      }\n    },\n    {\n      \"column\": \"Age\",\n      \"properties\": {\n        \"dtype\": \"number\",\n        \"std\": 6.747604752694152,\n        \"min\": 0.8755950357709131,\n        \"max\": 20.0,\n        \"num_unique_values\": 7,\n        \"samples\": [\n          10.0,\n          18.9,\n          19.75\n        ],\n        \"semantic_type\": \"\",\n        \"description\": \"\"\n      }\n    },\n    {\n      \"column\": \"Grades\",\n      \"properties\": {\n        \"dtype\": \"number\",\n        \"std\": 3.2864814505349536,\n        \"min\": 0.8755950357709131,\n        \"max\": 11.0,\n        \"num_unique_values\": 6,\n        \"samples\": [\n          10.0,\n          9.9,\n          11.0\n        ],\n        \"semantic_type\": \"\",\n        \"description\": \"\"\n      }\n    },\n    {\n      \"column\": \"Marks\",\n      \"properties\": {\n        \"dtype\": \"number\",\n        \"std\": 32.468256374984286,\n        \"min\": 10.0,\n        \"max\": 100.0,\n        \"num_unique_values\": 8,\n        \"samples\": [\n          59.7,\n          64.5,\n          10.0\n        ],\n        \"semantic_type\": \"\",\n        \"description\": \"\"\n      }\n    }\n  ]\n}"
            }
          },
          "metadata": {},
          "execution_count": 17
        }
      ]
    },
    {
      "cell_type": "markdown",
      "source": [],
      "metadata": {
        "id": "vYpYKzuEZhS1"
      }
    },
    {
      "cell_type": "markdown",
      "source": [
        "**Calculating Average of Students Marks using mean()**"
      ],
      "metadata": {
        "id": "NXyxDcfEmPdi"
      }
    },
    {
      "cell_type": "code",
      "source": [
        "Avg = S_df['Marks'].mean()\n",
        "print(Avg)"
      ],
      "metadata": {
        "colab": {
          "base_uri": "https://localhost:8080/"
        },
        "id": "-CCGLEYVlrq7",
        "outputId": "557f5222-ea39-488e-eb62-34ee25a5b131"
      },
      "execution_count": 18,
      "outputs": [
        {
          "output_type": "stream",
          "name": "stdout",
          "text": [
            "59.7\n"
          ]
        }
      ]
    },
    {
      "cell_type": "markdown",
      "source": [
        "**Checking Age Of Student if Student is Passed or not**"
      ],
      "metadata": {
        "id": "rA_4p0LWm2k6"
      }
    },
    {
      "cell_type": "code",
      "source": [
        "\n",
        "(S_df['Marks'] > 50)"
      ],
      "metadata": {
        "colab": {
          "base_uri": "https://localhost:8080/",
          "height": 398
        },
        "id": "SKgofxF9nGw3",
        "outputId": "03fbfc33-9915-4632-dc3b-2af8f7dc4518"
      },
      "execution_count": 19,
      "outputs": [
        {
          "output_type": "execute_result",
          "data": {
            "text/plain": [
              "0    False\n",
              "1    False\n",
              "2    False\n",
              "3     True\n",
              "4    False\n",
              "5    False\n",
              "6     True\n",
              "7     True\n",
              "8     True\n",
              "9     True\n",
              "Name: Marks, dtype: bool"
            ],
            "text/html": [
              "<div>\n",
              "<style scoped>\n",
              "    .dataframe tbody tr th:only-of-type {\n",
              "        vertical-align: middle;\n",
              "    }\n",
              "\n",
              "    .dataframe tbody tr th {\n",
              "        vertical-align: top;\n",
              "    }\n",
              "\n",
              "    .dataframe thead th {\n",
              "        text-align: right;\n",
              "    }\n",
              "</style>\n",
              "<table border=\"1\" class=\"dataframe\">\n",
              "  <thead>\n",
              "    <tr style=\"text-align: right;\">\n",
              "      <th></th>\n",
              "      <th>Marks</th>\n",
              "    </tr>\n",
              "  </thead>\n",
              "  <tbody>\n",
              "    <tr>\n",
              "      <th>0</th>\n",
              "      <td>False</td>\n",
              "    </tr>\n",
              "    <tr>\n",
              "      <th>1</th>\n",
              "      <td>False</td>\n",
              "    </tr>\n",
              "    <tr>\n",
              "      <th>2</th>\n",
              "      <td>False</td>\n",
              "    </tr>\n",
              "    <tr>\n",
              "      <th>3</th>\n",
              "      <td>True</td>\n",
              "    </tr>\n",
              "    <tr>\n",
              "      <th>4</th>\n",
              "      <td>False</td>\n",
              "    </tr>\n",
              "    <tr>\n",
              "      <th>5</th>\n",
              "      <td>False</td>\n",
              "    </tr>\n",
              "    <tr>\n",
              "      <th>6</th>\n",
              "      <td>True</td>\n",
              "    </tr>\n",
              "    <tr>\n",
              "      <th>7</th>\n",
              "      <td>True</td>\n",
              "    </tr>\n",
              "    <tr>\n",
              "      <th>8</th>\n",
              "      <td>True</td>\n",
              "    </tr>\n",
              "    <tr>\n",
              "      <th>9</th>\n",
              "      <td>True</td>\n",
              "    </tr>\n",
              "  </tbody>\n",
              "</table>\n",
              "</div><br><label><b>dtype:</b> bool</label>"
            ]
          },
          "metadata": {},
          "execution_count": 19
        }
      ]
    },
    {
      "cell_type": "markdown",
      "source": [
        "**Using Numpy where() function giving Marks Column and Creating New Column Passed**"
      ],
      "metadata": {
        "id": "lAx4YcqzoBfs"
      }
    },
    {
      "cell_type": "code",
      "source": [
        "S_df['Passed'] = np.where(S_df['Marks'] > 50, 'Yes', 'No')\n",
        "print(S_df)"
      ],
      "metadata": {
        "colab": {
          "base_uri": "https://localhost:8080/"
        },
        "id": "AwXVQWvcnusD",
        "outputId": "5989c1e3-5879-4309-bc3a-d5c824469207"
      },
      "execution_count": 20,
      "outputs": [
        {
          "output_type": "stream",
          "name": "stdout",
          "text": [
            "   StudentID     Name  Age Gender  Grades Class  Marks  Subject Passed\n",
            "0        101    Alice   18      F       9     A     20     Math     No\n",
            "1        102      Bob   19      M      10     A     30  Science     No\n",
            "2        103  Charlie   20      M      11     A     50  English     No\n",
            "3        104    David   18      M       9     B     90     Math    Yes\n",
            "4        105      Eva   19      F      10     B     38  Science     No\n",
            "5        106    Frank   20      M      11     B     20  English     No\n",
            "6        107    Grace   18      F       9     C     79     Math    Yes\n",
            "7        108   Hannah   19      F      10     C     80  Science    Yes\n",
            "8        109      Ivy   20      F      11     C     90  English    Yes\n",
            "9        110     Jack   18      M       9     D    100     Math    Yes\n"
          ]
        }
      ]
    },
    {
      "cell_type": "code",
      "source": [
        "S_df"
      ],
      "metadata": {
        "colab": {
          "base_uri": "https://localhost:8080/",
          "height": 363
        },
        "id": "pwP7cE9gofe9",
        "outputId": "9d56d6b0-8ced-4f07-cb09-74044a5b08bb"
      },
      "execution_count": 21,
      "outputs": [
        {
          "output_type": "execute_result",
          "data": {
            "text/plain": [
              "   StudentID     Name  Age Gender  Grades Class  Marks  Subject Passed\n",
              "0        101    Alice   18      F       9     A     20     Math     No\n",
              "1        102      Bob   19      M      10     A     30  Science     No\n",
              "2        103  Charlie   20      M      11     A     50  English     No\n",
              "3        104    David   18      M       9     B     90     Math    Yes\n",
              "4        105      Eva   19      F      10     B     38  Science     No\n",
              "5        106    Frank   20      M      11     B     20  English     No\n",
              "6        107    Grace   18      F       9     C     79     Math    Yes\n",
              "7        108   Hannah   19      F      10     C     80  Science    Yes\n",
              "8        109      Ivy   20      F      11     C     90  English    Yes\n",
              "9        110     Jack   18      M       9     D    100     Math    Yes"
            ],
            "text/html": [
              "\n",
              "  <div id=\"df-64d373af-551c-4941-a952-061ed5aaa225\" class=\"colab-df-container\">\n",
              "    <div>\n",
              "<style scoped>\n",
              "    .dataframe tbody tr th:only-of-type {\n",
              "        vertical-align: middle;\n",
              "    }\n",
              "\n",
              "    .dataframe tbody tr th {\n",
              "        vertical-align: top;\n",
              "    }\n",
              "\n",
              "    .dataframe thead th {\n",
              "        text-align: right;\n",
              "    }\n",
              "</style>\n",
              "<table border=\"1\" class=\"dataframe\">\n",
              "  <thead>\n",
              "    <tr style=\"text-align: right;\">\n",
              "      <th></th>\n",
              "      <th>StudentID</th>\n",
              "      <th>Name</th>\n",
              "      <th>Age</th>\n",
              "      <th>Gender</th>\n",
              "      <th>Grades</th>\n",
              "      <th>Class</th>\n",
              "      <th>Marks</th>\n",
              "      <th>Subject</th>\n",
              "      <th>Passed</th>\n",
              "    </tr>\n",
              "  </thead>\n",
              "  <tbody>\n",
              "    <tr>\n",
              "      <th>0</th>\n",
              "      <td>101</td>\n",
              "      <td>Alice</td>\n",
              "      <td>18</td>\n",
              "      <td>F</td>\n",
              "      <td>9</td>\n",
              "      <td>A</td>\n",
              "      <td>20</td>\n",
              "      <td>Math</td>\n",
              "      <td>No</td>\n",
              "    </tr>\n",
              "    <tr>\n",
              "      <th>1</th>\n",
              "      <td>102</td>\n",
              "      <td>Bob</td>\n",
              "      <td>19</td>\n",
              "      <td>M</td>\n",
              "      <td>10</td>\n",
              "      <td>A</td>\n",
              "      <td>30</td>\n",
              "      <td>Science</td>\n",
              "      <td>No</td>\n",
              "    </tr>\n",
              "    <tr>\n",
              "      <th>2</th>\n",
              "      <td>103</td>\n",
              "      <td>Charlie</td>\n",
              "      <td>20</td>\n",
              "      <td>M</td>\n",
              "      <td>11</td>\n",
              "      <td>A</td>\n",
              "      <td>50</td>\n",
              "      <td>English</td>\n",
              "      <td>No</td>\n",
              "    </tr>\n",
              "    <tr>\n",
              "      <th>3</th>\n",
              "      <td>104</td>\n",
              "      <td>David</td>\n",
              "      <td>18</td>\n",
              "      <td>M</td>\n",
              "      <td>9</td>\n",
              "      <td>B</td>\n",
              "      <td>90</td>\n",
              "      <td>Math</td>\n",
              "      <td>Yes</td>\n",
              "    </tr>\n",
              "    <tr>\n",
              "      <th>4</th>\n",
              "      <td>105</td>\n",
              "      <td>Eva</td>\n",
              "      <td>19</td>\n",
              "      <td>F</td>\n",
              "      <td>10</td>\n",
              "      <td>B</td>\n",
              "      <td>38</td>\n",
              "      <td>Science</td>\n",
              "      <td>No</td>\n",
              "    </tr>\n",
              "    <tr>\n",
              "      <th>5</th>\n",
              "      <td>106</td>\n",
              "      <td>Frank</td>\n",
              "      <td>20</td>\n",
              "      <td>M</td>\n",
              "      <td>11</td>\n",
              "      <td>B</td>\n",
              "      <td>20</td>\n",
              "      <td>English</td>\n",
              "      <td>No</td>\n",
              "    </tr>\n",
              "    <tr>\n",
              "      <th>6</th>\n",
              "      <td>107</td>\n",
              "      <td>Grace</td>\n",
              "      <td>18</td>\n",
              "      <td>F</td>\n",
              "      <td>9</td>\n",
              "      <td>C</td>\n",
              "      <td>79</td>\n",
              "      <td>Math</td>\n",
              "      <td>Yes</td>\n",
              "    </tr>\n",
              "    <tr>\n",
              "      <th>7</th>\n",
              "      <td>108</td>\n",
              "      <td>Hannah</td>\n",
              "      <td>19</td>\n",
              "      <td>F</td>\n",
              "      <td>10</td>\n",
              "      <td>C</td>\n",
              "      <td>80</td>\n",
              "      <td>Science</td>\n",
              "      <td>Yes</td>\n",
              "    </tr>\n",
              "    <tr>\n",
              "      <th>8</th>\n",
              "      <td>109</td>\n",
              "      <td>Ivy</td>\n",
              "      <td>20</td>\n",
              "      <td>F</td>\n",
              "      <td>11</td>\n",
              "      <td>C</td>\n",
              "      <td>90</td>\n",
              "      <td>English</td>\n",
              "      <td>Yes</td>\n",
              "    </tr>\n",
              "    <tr>\n",
              "      <th>9</th>\n",
              "      <td>110</td>\n",
              "      <td>Jack</td>\n",
              "      <td>18</td>\n",
              "      <td>M</td>\n",
              "      <td>9</td>\n",
              "      <td>D</td>\n",
              "      <td>100</td>\n",
              "      <td>Math</td>\n",
              "      <td>Yes</td>\n",
              "    </tr>\n",
              "  </tbody>\n",
              "</table>\n",
              "</div>\n",
              "    <div class=\"colab-df-buttons\">\n",
              "\n",
              "  <div class=\"colab-df-container\">\n",
              "    <button class=\"colab-df-convert\" onclick=\"convertToInteractive('df-64d373af-551c-4941-a952-061ed5aaa225')\"\n",
              "            title=\"Convert this dataframe to an interactive table.\"\n",
              "            style=\"display:none;\">\n",
              "\n",
              "  <svg xmlns=\"http://www.w3.org/2000/svg\" height=\"24px\" viewBox=\"0 -960 960 960\">\n",
              "    <path d=\"M120-120v-720h720v720H120Zm60-500h600v-160H180v160Zm220 220h160v-160H400v160Zm0 220h160v-160H400v160ZM180-400h160v-160H180v160Zm440 0h160v-160H620v160ZM180-180h160v-160H180v160Zm440 0h160v-160H620v160Z\"/>\n",
              "  </svg>\n",
              "    </button>\n",
              "\n",
              "  <style>\n",
              "    .colab-df-container {\n",
              "      display:flex;\n",
              "      gap: 12px;\n",
              "    }\n",
              "\n",
              "    .colab-df-convert {\n",
              "      background-color: #E8F0FE;\n",
              "      border: none;\n",
              "      border-radius: 50%;\n",
              "      cursor: pointer;\n",
              "      display: none;\n",
              "      fill: #1967D2;\n",
              "      height: 32px;\n",
              "      padding: 0 0 0 0;\n",
              "      width: 32px;\n",
              "    }\n",
              "\n",
              "    .colab-df-convert:hover {\n",
              "      background-color: #E2EBFA;\n",
              "      box-shadow: 0px 1px 2px rgba(60, 64, 67, 0.3), 0px 1px 3px 1px rgba(60, 64, 67, 0.15);\n",
              "      fill: #174EA6;\n",
              "    }\n",
              "\n",
              "    .colab-df-buttons div {\n",
              "      margin-bottom: 4px;\n",
              "    }\n",
              "\n",
              "    [theme=dark] .colab-df-convert {\n",
              "      background-color: #3B4455;\n",
              "      fill: #D2E3FC;\n",
              "    }\n",
              "\n",
              "    [theme=dark] .colab-df-convert:hover {\n",
              "      background-color: #434B5C;\n",
              "      box-shadow: 0px 1px 3px 1px rgba(0, 0, 0, 0.15);\n",
              "      filter: drop-shadow(0px 1px 2px rgba(0, 0, 0, 0.3));\n",
              "      fill: #FFFFFF;\n",
              "    }\n",
              "  </style>\n",
              "\n",
              "    <script>\n",
              "      const buttonEl =\n",
              "        document.querySelector('#df-64d373af-551c-4941-a952-061ed5aaa225 button.colab-df-convert');\n",
              "      buttonEl.style.display =\n",
              "        google.colab.kernel.accessAllowed ? 'block' : 'none';\n",
              "\n",
              "      async function convertToInteractive(key) {\n",
              "        const element = document.querySelector('#df-64d373af-551c-4941-a952-061ed5aaa225');\n",
              "        const dataTable =\n",
              "          await google.colab.kernel.invokeFunction('convertToInteractive',\n",
              "                                                    [key], {});\n",
              "        if (!dataTable) return;\n",
              "\n",
              "        const docLinkHtml = 'Like what you see? Visit the ' +\n",
              "          '<a target=\"_blank\" href=https://colab.research.google.com/notebooks/data_table.ipynb>data table notebook</a>'\n",
              "          + ' to learn more about interactive tables.';\n",
              "        element.innerHTML = '';\n",
              "        dataTable['output_type'] = 'display_data';\n",
              "        await google.colab.output.renderOutput(dataTable, element);\n",
              "        const docLink = document.createElement('div');\n",
              "        docLink.innerHTML = docLinkHtml;\n",
              "        element.appendChild(docLink);\n",
              "      }\n",
              "    </script>\n",
              "  </div>\n",
              "\n",
              "\n",
              "<div id=\"df-33018636-be8e-462a-bd9c-7750fad41207\">\n",
              "  <button class=\"colab-df-quickchart\" onclick=\"quickchart('df-33018636-be8e-462a-bd9c-7750fad41207')\"\n",
              "            title=\"Suggest charts\"\n",
              "            style=\"display:none;\">\n",
              "\n",
              "<svg xmlns=\"http://www.w3.org/2000/svg\" height=\"24px\"viewBox=\"0 0 24 24\"\n",
              "     width=\"24px\">\n",
              "    <g>\n",
              "        <path d=\"M19 3H5c-1.1 0-2 .9-2 2v14c0 1.1.9 2 2 2h14c1.1 0 2-.9 2-2V5c0-1.1-.9-2-2-2zM9 17H7v-7h2v7zm4 0h-2V7h2v10zm4 0h-2v-4h2v4z\"/>\n",
              "    </g>\n",
              "</svg>\n",
              "  </button>\n",
              "\n",
              "<style>\n",
              "  .colab-df-quickchart {\n",
              "      --bg-color: #E8F0FE;\n",
              "      --fill-color: #1967D2;\n",
              "      --hover-bg-color: #E2EBFA;\n",
              "      --hover-fill-color: #174EA6;\n",
              "      --disabled-fill-color: #AAA;\n",
              "      --disabled-bg-color: #DDD;\n",
              "  }\n",
              "\n",
              "  [theme=dark] .colab-df-quickchart {\n",
              "      --bg-color: #3B4455;\n",
              "      --fill-color: #D2E3FC;\n",
              "      --hover-bg-color: #434B5C;\n",
              "      --hover-fill-color: #FFFFFF;\n",
              "      --disabled-bg-color: #3B4455;\n",
              "      --disabled-fill-color: #666;\n",
              "  }\n",
              "\n",
              "  .colab-df-quickchart {\n",
              "    background-color: var(--bg-color);\n",
              "    border: none;\n",
              "    border-radius: 50%;\n",
              "    cursor: pointer;\n",
              "    display: none;\n",
              "    fill: var(--fill-color);\n",
              "    height: 32px;\n",
              "    padding: 0;\n",
              "    width: 32px;\n",
              "  }\n",
              "\n",
              "  .colab-df-quickchart:hover {\n",
              "    background-color: var(--hover-bg-color);\n",
              "    box-shadow: 0 1px 2px rgba(60, 64, 67, 0.3), 0 1px 3px 1px rgba(60, 64, 67, 0.15);\n",
              "    fill: var(--button-hover-fill-color);\n",
              "  }\n",
              "\n",
              "  .colab-df-quickchart-complete:disabled,\n",
              "  .colab-df-quickchart-complete:disabled:hover {\n",
              "    background-color: var(--disabled-bg-color);\n",
              "    fill: var(--disabled-fill-color);\n",
              "    box-shadow: none;\n",
              "  }\n",
              "\n",
              "  .colab-df-spinner {\n",
              "    border: 2px solid var(--fill-color);\n",
              "    border-color: transparent;\n",
              "    border-bottom-color: var(--fill-color);\n",
              "    animation:\n",
              "      spin 1s steps(1) infinite;\n",
              "  }\n",
              "\n",
              "  @keyframes spin {\n",
              "    0% {\n",
              "      border-color: transparent;\n",
              "      border-bottom-color: var(--fill-color);\n",
              "      border-left-color: var(--fill-color);\n",
              "    }\n",
              "    20% {\n",
              "      border-color: transparent;\n",
              "      border-left-color: var(--fill-color);\n",
              "      border-top-color: var(--fill-color);\n",
              "    }\n",
              "    30% {\n",
              "      border-color: transparent;\n",
              "      border-left-color: var(--fill-color);\n",
              "      border-top-color: var(--fill-color);\n",
              "      border-right-color: var(--fill-color);\n",
              "    }\n",
              "    40% {\n",
              "      border-color: transparent;\n",
              "      border-right-color: var(--fill-color);\n",
              "      border-top-color: var(--fill-color);\n",
              "    }\n",
              "    60% {\n",
              "      border-color: transparent;\n",
              "      border-right-color: var(--fill-color);\n",
              "    }\n",
              "    80% {\n",
              "      border-color: transparent;\n",
              "      border-right-color: var(--fill-color);\n",
              "      border-bottom-color: var(--fill-color);\n",
              "    }\n",
              "    90% {\n",
              "      border-color: transparent;\n",
              "      border-bottom-color: var(--fill-color);\n",
              "    }\n",
              "  }\n",
              "</style>\n",
              "\n",
              "  <script>\n",
              "    async function quickchart(key) {\n",
              "      const quickchartButtonEl =\n",
              "        document.querySelector('#' + key + ' button');\n",
              "      quickchartButtonEl.disabled = true;  // To prevent multiple clicks.\n",
              "      quickchartButtonEl.classList.add('colab-df-spinner');\n",
              "      try {\n",
              "        const charts = await google.colab.kernel.invokeFunction(\n",
              "            'suggestCharts', [key], {});\n",
              "      } catch (error) {\n",
              "        console.error('Error during call to suggestCharts:', error);\n",
              "      }\n",
              "      quickchartButtonEl.classList.remove('colab-df-spinner');\n",
              "      quickchartButtonEl.classList.add('colab-df-quickchart-complete');\n",
              "    }\n",
              "    (() => {\n",
              "      let quickchartButtonEl =\n",
              "        document.querySelector('#df-33018636-be8e-462a-bd9c-7750fad41207 button');\n",
              "      quickchartButtonEl.style.display =\n",
              "        google.colab.kernel.accessAllowed ? 'block' : 'none';\n",
              "    })();\n",
              "  </script>\n",
              "</div>\n",
              "\n",
              "  <div id=\"id_4db83b1e-bac9-472c-9225-9035e4453bad\">\n",
              "    <style>\n",
              "      .colab-df-generate {\n",
              "        background-color: #E8F0FE;\n",
              "        border: none;\n",
              "        border-radius: 50%;\n",
              "        cursor: pointer;\n",
              "        display: none;\n",
              "        fill: #1967D2;\n",
              "        height: 32px;\n",
              "        padding: 0 0 0 0;\n",
              "        width: 32px;\n",
              "      }\n",
              "\n",
              "      .colab-df-generate:hover {\n",
              "        background-color: #E2EBFA;\n",
              "        box-shadow: 0px 1px 2px rgba(60, 64, 67, 0.3), 0px 1px 3px 1px rgba(60, 64, 67, 0.15);\n",
              "        fill: #174EA6;\n",
              "      }\n",
              "\n",
              "      [theme=dark] .colab-df-generate {\n",
              "        background-color: #3B4455;\n",
              "        fill: #D2E3FC;\n",
              "      }\n",
              "\n",
              "      [theme=dark] .colab-df-generate:hover {\n",
              "        background-color: #434B5C;\n",
              "        box-shadow: 0px 1px 3px 1px rgba(0, 0, 0, 0.15);\n",
              "        filter: drop-shadow(0px 1px 2px rgba(0, 0, 0, 0.3));\n",
              "        fill: #FFFFFF;\n",
              "      }\n",
              "    </style>\n",
              "    <button class=\"colab-df-generate\" onclick=\"generateWithVariable('S_df')\"\n",
              "            title=\"Generate code using this dataframe.\"\n",
              "            style=\"display:none;\">\n",
              "\n",
              "  <svg xmlns=\"http://www.w3.org/2000/svg\" height=\"24px\"viewBox=\"0 0 24 24\"\n",
              "       width=\"24px\">\n",
              "    <path d=\"M7,19H8.4L18.45,9,17,7.55,7,17.6ZM5,21V16.75L18.45,3.32a2,2,0,0,1,2.83,0l1.4,1.43a1.91,1.91,0,0,1,.58,1.4,1.91,1.91,0,0,1-.58,1.4L9.25,21ZM18.45,9,17,7.55Zm-12,3A5.31,5.31,0,0,0,4.9,8.1,5.31,5.31,0,0,0,1,6.5,5.31,5.31,0,0,0,4.9,4.9,5.31,5.31,0,0,0,6.5,1,5.31,5.31,0,0,0,8.1,4.9,5.31,5.31,0,0,0,12,6.5,5.46,5.46,0,0,0,6.5,12Z\"/>\n",
              "  </svg>\n",
              "    </button>\n",
              "    <script>\n",
              "      (() => {\n",
              "      const buttonEl =\n",
              "        document.querySelector('#id_4db83b1e-bac9-472c-9225-9035e4453bad button.colab-df-generate');\n",
              "      buttonEl.style.display =\n",
              "        google.colab.kernel.accessAllowed ? 'block' : 'none';\n",
              "\n",
              "      buttonEl.onclick = () => {\n",
              "        google.colab.notebook.generateWithVariable('S_df');\n",
              "      }\n",
              "      })();\n",
              "    </script>\n",
              "  </div>\n",
              "\n",
              "    </div>\n",
              "  </div>\n"
            ],
            "application/vnd.google.colaboratory.intrinsic+json": {
              "type": "dataframe",
              "variable_name": "S_df",
              "summary": "{\n  \"name\": \"S_df\",\n  \"rows\": 10,\n  \"fields\": [\n    {\n      \"column\": \"StudentID\",\n      \"properties\": {\n        \"dtype\": \"number\",\n        \"std\": 3,\n        \"min\": 101,\n        \"max\": 110,\n        \"num_unique_values\": 10,\n        \"samples\": [\n          109,\n          102,\n          106\n        ],\n        \"semantic_type\": \"\",\n        \"description\": \"\"\n      }\n    },\n    {\n      \"column\": \"Name\",\n      \"properties\": {\n        \"dtype\": \"string\",\n        \"num_unique_values\": 10,\n        \"samples\": [\n          \"Ivy\",\n          \"Bob\",\n          \"Frank\"\n        ],\n        \"semantic_type\": \"\",\n        \"description\": \"\"\n      }\n    },\n    {\n      \"column\": \"Age\",\n      \"properties\": {\n        \"dtype\": \"number\",\n        \"std\": 0,\n        \"min\": 18,\n        \"max\": 20,\n        \"num_unique_values\": 3,\n        \"samples\": [\n          18,\n          19,\n          20\n        ],\n        \"semantic_type\": \"\",\n        \"description\": \"\"\n      }\n    },\n    {\n      \"column\": \"Gender\",\n      \"properties\": {\n        \"dtype\": \"category\",\n        \"num_unique_values\": 2,\n        \"samples\": [\n          \"M\",\n          \"F\"\n        ],\n        \"semantic_type\": \"\",\n        \"description\": \"\"\n      }\n    },\n    {\n      \"column\": \"Grades\",\n      \"properties\": {\n        \"dtype\": \"number\",\n        \"std\": 0,\n        \"min\": 9,\n        \"max\": 11,\n        \"num_unique_values\": 3,\n        \"samples\": [\n          9,\n          10\n        ],\n        \"semantic_type\": \"\",\n        \"description\": \"\"\n      }\n    },\n    {\n      \"column\": \"Class\",\n      \"properties\": {\n        \"dtype\": \"category\",\n        \"num_unique_values\": 4,\n        \"samples\": [\n          \"B\",\n          \"D\"\n        ],\n        \"semantic_type\": \"\",\n        \"description\": \"\"\n      }\n    },\n    {\n      \"column\": \"Marks\",\n      \"properties\": {\n        \"dtype\": \"number\",\n        \"std\": 31,\n        \"min\": 20,\n        \"max\": 100,\n        \"num_unique_values\": 8,\n        \"samples\": [\n          30,\n          79\n        ],\n        \"semantic_type\": \"\",\n        \"description\": \"\"\n      }\n    },\n    {\n      \"column\": \"Subject\",\n      \"properties\": {\n        \"dtype\": \"category\",\n        \"num_unique_values\": 3,\n        \"samples\": [\n          \"Math\",\n          \"Science\"\n        ],\n        \"semantic_type\": \"\",\n        \"description\": \"\"\n      }\n    },\n    {\n      \"column\": \"Passed\",\n      \"properties\": {\n        \"dtype\": \"category\",\n        \"num_unique_values\": 2,\n        \"samples\": [\n          \"Yes\",\n          \"No\"\n        ],\n        \"semantic_type\": \"\",\n        \"description\": \"\"\n      }\n    }\n  ]\n}"
            }
          },
          "metadata": {},
          "execution_count": 21
        }
      ]
    },
    {
      "cell_type": "markdown",
      "source": [
        "**Saving Our Data Frame in an Excel File in our work place**"
      ],
      "metadata": {
        "id": "K-FxVDsdpTso"
      }
    },
    {
      "cell_type": "code",
      "source": [
        "S_df.to_excel(\"Student.xlsx\")"
      ],
      "metadata": {
        "id": "Rbdzf7Dxo8q5"
      },
      "execution_count": 22,
      "outputs": []
    },
    {
      "cell_type": "markdown",
      "source": [
        "**Saving in Excel File**"
      ],
      "metadata": {
        "id": "AV9vMzAfvDUu"
      }
    },
    {
      "cell_type": "code",
      "source": [
        "S_df.to_excel(r'macintosh HD:\\Users\\Sana\\Desktop\\Student.xlsx', index=False)"
      ],
      "metadata": {
        "id": "XbvBJXtQpYht"
      },
      "execution_count": 23,
      "outputs": []
    },
    {
      "cell_type": "markdown",
      "source": [
        "**Changing according to condition**"
      ],
      "metadata": {
        "id": "mAn_VP1tvMPi"
      }
    },
    {
      "cell_type": "code",
      "source": [
        "S_df.loc[S_df['Marks'] == 38, 'Marks'] = 100\n",
        "print(S_df)"
      ],
      "metadata": {
        "colab": {
          "base_uri": "https://localhost:8080/"
        },
        "id": "z5kls316vCgP",
        "outputId": "81aeb940-9fc2-44b2-c3ef-8b63fbe18b6c"
      },
      "execution_count": 24,
      "outputs": [
        {
          "output_type": "stream",
          "name": "stdout",
          "text": [
            "   StudentID     Name  Age Gender  Grades Class  Marks  Subject Passed\n",
            "0        101    Alice   18      F       9     A     20     Math     No\n",
            "1        102      Bob   19      M      10     A     30  Science     No\n",
            "2        103  Charlie   20      M      11     A     50  English     No\n",
            "3        104    David   18      M       9     B     90     Math    Yes\n",
            "4        105      Eva   19      F      10     B    100  Science     No\n",
            "5        106    Frank   20      M      11     B     20  English     No\n",
            "6        107    Grace   18      F       9     C     79     Math    Yes\n",
            "7        108   Hannah   19      F      10     C     80  Science    Yes\n",
            "8        109      Ivy   20      F      11     C     90  English    Yes\n",
            "9        110     Jack   18      M       9     D    100     Math    Yes\n"
          ]
        }
      ]
    },
    {
      "cell_type": "markdown",
      "source": [
        "**Changing Single Value Of Particular Row and Column**"
      ],
      "metadata": {
        "id": "7wH_RqsjyD56"
      }
    },
    {
      "cell_type": "code",
      "source": [
        "S_df.at[1, \"Name\"] = \"Sana\"\n",
        "print(S_df)"
      ],
      "metadata": {
        "colab": {
          "base_uri": "https://localhost:8080/"
        },
        "id": "bmAkEcn7xgZK",
        "outputId": "4f1f7108-4b20-4c47-ffcd-2701a1109604"
      },
      "execution_count": 25,
      "outputs": [
        {
          "output_type": "stream",
          "name": "stdout",
          "text": [
            "   StudentID     Name  Age Gender  Grades Class  Marks  Subject Passed\n",
            "0        101    Alice   18      F       9     A     20     Math     No\n",
            "1        102     Sana   19      M      10     A     30  Science     No\n",
            "2        103  Charlie   20      M      11     A     50  English     No\n",
            "3        104    David   18      M       9     B     90     Math    Yes\n",
            "4        105      Eva   19      F      10     B    100  Science     No\n",
            "5        106    Frank   20      M      11     B     20  English     No\n",
            "6        107    Grace   18      F       9     C     79     Math    Yes\n",
            "7        108   Hannah   19      F      10     C     80  Science    Yes\n",
            "8        109      Ivy   20      F      11     C     90  English    Yes\n",
            "9        110     Jack   18      M       9     D    100     Math    Yes\n"
          ]
        }
      ]
    },
    {
      "cell_type": "markdown",
      "source": [
        "**Changing Entire Column**"
      ],
      "metadata": {
        "id": "EWJS2JWYySxN"
      }
    },
    {
      "cell_type": "code",
      "source": [
        "S_df[\"Grades\"] = [10,10,9,8,7,9,9,8,7,8]\n",
        "print(S_df)"
      ],
      "metadata": {
        "colab": {
          "base_uri": "https://localhost:8080/"
        },
        "id": "leC0l5tpyMsI",
        "outputId": "cce327c2-ee4c-493d-c72f-29391e714b88"
      },
      "execution_count": 26,
      "outputs": [
        {
          "output_type": "stream",
          "name": "stdout",
          "text": [
            "   StudentID     Name  Age Gender  Grades Class  Marks  Subject Passed\n",
            "0        101    Alice   18      F      10     A     20     Math     No\n",
            "1        102     Sana   19      M      10     A     30  Science     No\n",
            "2        103  Charlie   20      M       9     A     50  English     No\n",
            "3        104    David   18      M       8     B     90     Math    Yes\n",
            "4        105      Eva   19      F       7     B    100  Science     No\n",
            "5        106    Frank   20      M       9     B     20  English     No\n",
            "6        107    Grace   18      F       9     C     79     Math    Yes\n",
            "7        108   Hannah   19      F       8     C     80  Science    Yes\n",
            "8        109      Ivy   20      F       7     C     90  English    Yes\n",
            "9        110     Jack   18      M       8     D    100     Math    Yes\n"
          ]
        }
      ]
    },
    {
      "cell_type": "markdown",
      "source": [
        "**Changing Entire Row with iloc() but mention row number**"
      ],
      "metadata": {
        "id": "uWcPhOVo4GpI"
      }
    },
    {
      "cell_type": "code",
      "source": [
        "S_df.iloc[1] = [101,'Amanda',20,'F',10,'A',20,'BioChemistry','No']\n",
        "print(S_df)"
      ],
      "metadata": {
        "colab": {
          "base_uri": "https://localhost:8080/"
        },
        "id": "FZZCL2dp1Ak5",
        "outputId": "3e406585-9c62-4826-b8f6-f879b3eff866"
      },
      "execution_count": 28,
      "outputs": [
        {
          "output_type": "stream",
          "name": "stdout",
          "text": [
            "   StudentID     Name  Age Gender  Grades Class  Marks       Subject Passed\n",
            "0        101    Alice   18      F      10     A     20          Math     No\n",
            "1        101   Amanda   20      F      10     A     20  BioChemistry     No\n",
            "2        103  Charlie   20      M       9     A     50       English     No\n",
            "3        104    David   18      M       8     B     90          Math    Yes\n",
            "4        105      Eva   19      F       7     B    100       Science     No\n",
            "5        106    Frank   20      M       9     B     20       English     No\n",
            "6        107    Grace   18      F       9     C     79          Math    Yes\n",
            "7        108   Hannah   19      F       8     C     80       Science    Yes\n",
            "8        109      Ivy   20      F       7     C     90       English    Yes\n",
            "9        110     Jack   18      M       8     D    100          Math    Yes\n"
          ]
        }
      ]
    },
    {
      "cell_type": "markdown",
      "source": [
        "**Adding New Row in the teachers data frame**"
      ],
      "metadata": {
        "id": "8ykqCaSvtJ2O"
      }
    },
    {
      "cell_type": "code",
      "source": [
        "T_df.loc[5] =[6, \"Fairy\", 20, 'F',\"French\",90000]\n",
        "print(T_df)"
      ],
      "metadata": {
        "colab": {
          "base_uri": "https://localhost:8080/"
        },
        "id": "QeQFGjiZtUkW",
        "outputId": "75d5a6c0-d511-4f58-ae40-531b3b75df3c"
      },
      "execution_count": 29,
      "outputs": [
        {
          "output_type": "stream",
          "name": "stdout",
          "text": [
            "   TeacherID   Name  Age Gender  Subject  Salary\n",
            "0          1   John   30      M     Math   50000\n",
            "1          2   Jane   35      F  Science   60000\n",
            "2          3    Bob   40      M  English   70000\n",
            "3          4  Alice   45      F     Math   80000\n",
            "4          5    Tom   50      M  Science   90000\n",
            "5          6  Fairy   20      F   French   90000\n"
          ]
        }
      ]
    },
    {
      "cell_type": "markdown",
      "source": [
        "**Adding New Column in the teachers data frame**"
      ],
      "metadata": {
        "id": "oW7k5yvsu94O"
      }
    },
    {
      "cell_type": "code",
      "source": [
        "T_df['Nationality'] = ['USA', 'Canada', 'UK', 'Australia', 'Germany', 'France']\n",
        "print (T_df)"
      ],
      "metadata": {
        "colab": {
          "base_uri": "https://localhost:8080/"
        },
        "id": "6ROaGswiuu-m",
        "outputId": "db85be0e-4929-4c7a-ee69-48d1d2f8fcb2"
      },
      "execution_count": 30,
      "outputs": [
        {
          "output_type": "stream",
          "name": "stdout",
          "text": [
            "   TeacherID   Name  Age Gender  Subject  Salary Nationality\n",
            "0          1   John   30      M     Math   50000         USA\n",
            "1          2   Jane   35      F  Science   60000      Canada\n",
            "2          3    Bob   40      M  English   70000          UK\n",
            "3          4  Alice   45      F     Math   80000   Australia\n",
            "4          5    Tom   50      M  Science   90000     Germany\n",
            "5          6  Fairy   20      F   French   90000      France\n"
          ]
        }
      ]
    },
    {
      "cell_type": "markdown",
      "source": [
        "**Now Making Line Graphs of Teachers Salary**"
      ],
      "metadata": {
        "id": "pW1VOdZZwEyQ"
      }
    },
    {
      "cell_type": "code",
      "source": [
        "plt.figure(figsize=(16, 6))\n",
        "plt.plot(T_df ['Name'], T_df['Salary'], label='Salary Chart', marker = 'o')\n",
        "plt.title('Salary of Teachers')\n",
        "plt.xlabel('Teachers')\n",
        "plt.ylabel('Salary')\n",
        "plt.legend()\n",
        "plt.grid(True)\n",
        "plt.tight_layout()\n",
        "plt.show()"
      ],
      "metadata": {
        "colab": {
          "base_uri": "https://localhost:8080/",
          "height": 447
        },
        "id": "3XXAztt4waEo",
        "outputId": "c345233f-7b07-4995-8e66-fab37b5b2b19"
      },
      "execution_count": 31,
      "outputs": [
        {
          "output_type": "display_data",
          "data": {
            "text/plain": [
              "<Figure size 1600x600 with 1 Axes>"
            ],
            "image/png": "[encoded data removed]"
          },
          "metadata": {}
        }
      ]
    },
    {
      "cell_type": "markdown",
      "source": [
        "**Adding New Column Of Teachers Incentive**"
      ],
      "metadata": {
        "id": "H183XN38yFL_"
      }
    },
    {
      "cell_type": "code",
      "source": [
        "T_df['Incentive'] = [5000, 3000, 6000, 10000, 7000,9000]\n",
        "print(T_df)"
      ],
      "metadata": {
        "colab": {
          "base_uri": "https://localhost:8080/"
        },
        "id": "1XvtUWMJzJQd",
        "outputId": "9710706e-aa10-4757-9cc2-712c0392bcfb"
      },
      "execution_count": 32,
      "outputs": [
        {
          "output_type": "stream",
          "name": "stdout",
          "text": [
            "   TeacherID   Name  Age Gender  Subject  Salary Nationality  Incentive\n",
            "0          1   John   30      M     Math   50000         USA       5000\n",
            "1          2   Jane   35      F  Science   60000      Canada       3000\n",
            "2          3    Bob   40      M  English   70000          UK       6000\n",
            "3          4  Alice   45      F     Math   80000   Australia      10000\n",
            "4          5    Tom   50      M  Science   90000     Germany       7000\n",
            "5          6  Fairy   20      F   French   90000      France       9000\n"
          ]
        }
      ]
    },
    {
      "cell_type": "markdown",
      "source": [
        "**Bar Graph Of Teachers Incentive And Salary**"
      ],
      "metadata": {
        "id": "FiIvE0FWz_QF"
      }
    },
    {
      "cell_type": "code",
      "source": [
        "import matplotlib.pyplot as plt\n",
        "import numpy as np\n",
        "\n",
        "plt.figure(figsize=(10, 6))\n",
        "bar_width = 0.25\n",
        "y=T_df['Salary']\n",
        "z=T_df['Incentive']\n",
        "x=np.arange(len(y))\n",
        "print(x)\n",
        "\n",
        "\n",
        "\n",
        "plt.bar(x,z,width=bar_width, label='Incentive')\n",
        "plt.xlabel('Month')\n",
        "plt.ylabel('Sales')\n",
        "plt.title('Monthly Incentive')\n",
        "\n",
        "plt.legend()\n",
        "plt.tight_layout()\n",
        "plt.show()"
      ],
      "metadata": {
        "colab": {
          "base_uri": "https://localhost:8080/",
          "height": 625
        },
        "id": "WkSIxFU8z2nj",
        "outputId": "1b4f9b41-1359-46be-9f29-9f744e85dc4b"
      },
      "execution_count": 33,
      "outputs": [
        {
          "output_type": "stream",
          "name": "stdout",
          "text": [
            "[0 1 2 3 4 5]\n"
          ]
        },
        {
          "output_type": "display_data",
          "data": {
            "text/plain": [
              "<Figure size 1000x600 with 1 Axes>"
            ],
            "image/png": "[encoded data removed]"
          },
          "metadata": {}
        }
      ]
    },
    {
      "cell_type": "markdown",
      "source": [
        "**Sum of Incentive And Salary**"
      ],
      "metadata": {
        "id": "i3s-tEWQ3KAT"
      }
    },
    {
      "cell_type": "code",
      "source": [
        "sum = T_df['Salary'] + T_df['Incentive']\n",
        "print(sum)"
      ],
      "metadata": {
        "colab": {
          "base_uri": "https://localhost:8080/"
        },
        "id": "-vqOpdOD3IHN",
        "outputId": "ba5b684f-33d8-4170-c3d4-378c3633fdaa"
      },
      "execution_count": 34,
      "outputs": [
        {
          "output_type": "stream",
          "name": "stdout",
          "text": [
            "0    55000\n",
            "1    63000\n",
            "2    76000\n",
            "3    90000\n",
            "4    97000\n",
            "5    99000\n",
            "dtype: int64\n"
          ]
        }
      ]
    },
    {
      "cell_type": "markdown",
      "source": [
        "**Creating Pie Chart of Sum Of Salary An Incentive**"
      ],
      "metadata": {
        "id": "i-AtTAn93wfx"
      }
    },
    {
      "cell_type": "code",
      "source": [
        "\n",
        "import matplotlib.pyplot as plt\n",
        "\n",
        "\n",
        "\n",
        "\n",
        "# Create chart\n",
        "import matplotlib.pyplot as plt\n",
        "\n",
        "\n",
        "\n",
        "\n",
        "# Create chart\n",
        "plt.pie(sum, labels=T_df['Name'], autopct='%1.1f%%')\n",
        "#plt.pie(sum, labels=T_df['Name'])\n",
        "\n",
        "# Add title\n",
        "plt.title('Sum of Salary and Incentive')\n",
        "\n",
        "# Show chart\n",
        "plt.show()\n",
        "# Show chart\n",
        "plt.show()"
      ],
      "metadata": {
        "colab": {
          "base_uri": "https://localhost:8080/",
          "height": 428
        },
        "id": "82kf9AyJ3lJP",
        "outputId": "9781f71a-d6a3-4e3f-ff5d-50d073d14353"
      },
      "execution_count": 35,
      "outputs": [
        {
          "output_type": "display_data",
          "data": {
            "text/plain": [
              "<Figure size 640x480 with 1 Axes>"
            ],
            "image/png": "[encoded data removed]"
          },
          "metadata": {}
        }
      ]
    }
  ]
}